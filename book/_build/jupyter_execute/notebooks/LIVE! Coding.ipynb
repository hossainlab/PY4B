{
 "cells": [
  {
   "cell_type": "code",
   "execution_count": 1,
   "metadata": {},
   "outputs": [
    {
     "data": {
      "text/plain": [
       "0.36363636363636365"
      ]
     },
     "execution_count": 1,
     "metadata": {},
     "output_type": "execute_result"
    }
   ],
   "source": [
    "12/33"
   ]
  },
  {
   "cell_type": "code",
   "execution_count": 3,
   "metadata": {},
   "outputs": [],
   "source": [
    "seq1 = 'ATGGACCAGATATAGGGAGAGCCAGGTAGGACA'\n",
    "seq2 = 'ATNGACCAGATATTGNGAGAGCCGGGTAGGACN'"
   ]
  },
  {
   "cell_type": "code",
   "execution_count": 3,
   "metadata": {},
   "outputs": [
    {
     "data": {
      "text/plain": [
       "33"
      ]
     },
     "execution_count": 3,
     "metadata": {},
     "output_type": "execute_result"
    }
   ],
   "source": [
    "# length \n",
    "len(seq1)"
   ]
  },
  {
   "cell_type": "code",
   "execution_count": 4,
   "metadata": {},
   "outputs": [
    {
     "data": {
      "text/plain": [
       "33"
      ]
     },
     "execution_count": 4,
     "metadata": {},
     "output_type": "execute_result"
    }
   ],
   "source": [
    "len(seq2)"
   ]
  },
  {
   "cell_type": "code",
   "execution_count": 6,
   "metadata": {},
   "outputs": [
    {
     "name": "stdout",
     "output_type": "stream",
     "text": [
      "No. of A:  12\n",
      "No. of T:  4\n",
      "No. of G:  12\n",
      "No. of C:  5\n"
     ]
    }
   ],
   "source": [
    "print(\"No. of A: \", seq1.count(\"A\"))\n",
    "print(\"No. of T: \", seq1.count(\"T\"))\n",
    "print(\"No. of G: \", seq1.count(\"G\"))\n",
    "print(\"No. of C: \", seq1.count(\"C\"))"
   ]
  },
  {
   "cell_type": "code",
   "execution_count": 8,
   "metadata": {},
   "outputs": [
    {
     "name": "stdout",
     "output_type": "stream",
     "text": [
      "RF. of A:  0.36363636363636365\n",
      "RF. of T:  0.12121212121212122\n",
      "RF. of G:  0.36363636363636365\n",
      "RF. of C:  0.15151515151515152\n"
     ]
    }
   ],
   "source": [
    "print(\"RF. of A: \", seq1.count(\"A\")/len(seq1))\n",
    "print(\"RF. of T: \", seq1.count(\"T\")/len(seq1))\n",
    "print(\"RF. of G: \", seq1.count(\"G\")/len(seq1))\n",
    "print(\"RF. of C: \", seq1.count(\"C\")/len(seq1))"
   ]
  },
  {
   "cell_type": "code",
   "execution_count": 11,
   "metadata": {},
   "outputs": [
    {
     "name": "stdout",
     "output_type": "stream",
     "text": [
      "RF. of A:  0.2727272727272727\n",
      "RF. of T:  0.15151515151515152\n",
      "RF. of G:  0.3333333333333333\n",
      "RF. of C:  0.15151515151515152\n",
      "RF. of N:  0.09090909090909091\n"
     ]
    }
   ],
   "source": [
    "print(\"RF. of A: \", seq2.count(\"A\")/len(seq2))\n",
    "print(\"RF. of T: \", seq2.count(\"T\")/len(seq2))\n",
    "print(\"RF. of G: \", seq2.count(\"G\")/len(seq2))\n",
    "print(\"RF. of C: \", seq2.count(\"C\")/len(seq2))\n",
    "print(\"RF. of N: \", seq2.count(\"N\")/len(seq2))"
   ]
  },
  {
   "cell_type": "code",
   "execution_count": 15,
   "metadata": {},
   "outputs": [],
   "source": [
    "def basecount(seq): \n",
    "    \"\"\"Count the frequencies of each bases in sequence including every letter\"\"\" \n",
    "    # {A: 3 30, C: 50, G: 4} \n",
    "    freq = {}\n",
    "    for base in seq: \n",
    "        if base in freq: \n",
    "            freq[base] += 1 \n",
    "        else: \n",
    "            freq[base] = 1 \n",
    "    return freq     "
   ]
  },
  {
   "cell_type": "code",
   "execution_count": 17,
   "metadata": {},
   "outputs": [],
   "source": [
    "seq_freq = basecount(seq1)"
   ]
  },
  {
   "cell_type": "code",
   "execution_count": 30,
   "metadata": {},
   "outputs": [
    {
     "name": "stdout",
     "output_type": "stream",
     "text": [
      "4.38 µs ± 167 ns per loop (mean ± std. dev. of 7 runs, 100000 loops each)\n"
     ]
    }
   ],
   "source": [
    "%%timeit\n",
    "basecount(seq1)"
   ]
  },
  {
   "cell_type": "code",
   "execution_count": 18,
   "metadata": {},
   "outputs": [
    {
     "data": {
      "text/plain": [
       "{'A': 12, 'T': 4, 'G': 12, 'C': 5}"
      ]
     },
     "execution_count": 18,
     "metadata": {},
     "output_type": "execute_result"
    }
   ],
   "source": [
    "seq_freq"
   ]
  },
  {
   "cell_type": "code",
   "execution_count": 20,
   "metadata": {},
   "outputs": [],
   "source": [
    "y = seq_freq.values() "
   ]
  },
  {
   "cell_type": "code",
   "execution_count": 22,
   "metadata": {},
   "outputs": [],
   "source": [
    "x = seq_freq.keys() "
   ]
  },
  {
   "cell_type": "code",
   "execution_count": 26,
   "metadata": {},
   "outputs": [
    {
     "data": {
      "image/png": "[encoded data removed]",
      "text/plain": [
       "<Figure size 720x432 with 1 Axes>"
      ]
     },
     "metadata": {
      "filenames": {
       "image/png": "/home/jubayer/Sites/ds-books/PY4B/book/_build/jupyter_execute/notebooks/LIVE! Coding_13_0.png"
      },
      "needs_background": "light"
     },
     "output_type": "display_data"
    }
   ],
   "source": [
    "import matplotlib.pyplot as plt \n",
    "plt.figure(figsize=(10,6))\n",
    "plt.title(\"Nucleotide Frequencies of DNA Sequence\", fontsize=14)\n",
    "plt.xlabel(\"Bases\", fontsize=14)\n",
    "plt.ylabel(\"Frequency\", fontsize=14)\n",
    "plt.tight_layout()\n",
    "plt.bar(x, y)\n",
    "plt.savefig(\"frequency.pdf\")\n",
    "plt.show() "
   ]
  },
  {
   "cell_type": "code",
   "execution_count": 27,
   "metadata": {},
   "outputs": [
    {
     "data": {
      "image/png": "[encoded data removed]",
      "text/plain": [
       "<Figure size 720x432 with 1 Axes>"
      ]
     },
     "metadata": {
      "filenames": {
       "image/png": "/home/jubayer/Sites/ds-books/PY4B/book/_build/jupyter_execute/notebooks/LIVE! Coding_14_0.png"
      },
      "needs_background": "light"
     },
     "output_type": "display_data"
    }
   ],
   "source": [
    "import matplotlib.pyplot as plt \n",
    "plt.figure(figsize=(10,6))\n",
    "plt.title(\"Nucleotide Frequencies of DNA Sequence\", fontsize=14)\n",
    "plt.xlabel(\"Bases\", fontsize=14)\n",
    "plt.ylabel(\"Frequency\", fontsize=14)\n",
    "plt.tight_layout()\n",
    "plt.bar(seq_freq.keys(), seq_freq.values())\n",
    "# plt.savefig(\"frequency.pdf\")\n",
    "plt.show() "
   ]
  },
  {
   "cell_type": "code",
   "execution_count": 28,
   "metadata": {},
   "outputs": [],
   "source": [
    "from collections import Counter \n",
    "def counts_fast(seq): \n",
    "    \"\"\"Count the frequencies of each bases in sequence including every letter\"\"\" \n",
    "    freq = Counter(seq) \n",
    "    return freq"
   ]
  },
  {
   "cell_type": "code",
   "execution_count": 31,
   "metadata": {},
   "outputs": [
    {
     "name": "stdout",
     "output_type": "stream",
     "text": [
      "4.65 µs ± 104 ns per loop (mean ± std. dev. of 7 runs, 100000 loops each)\n"
     ]
    }
   ],
   "source": [
    "%%timeit \n",
    "counts_fast(seq1)"
   ]
  },
  {
   "cell_type": "code",
   "execution_count": 32,
   "metadata": {},
   "outputs": [],
   "source": [
    "seq2 = 'ATNGACCAGATATTGNGAGAGCCGGGTAGGACN'"
   ]
  },
  {
   "cell_type": "code",
   "execution_count": 1,
   "metadata": {},
   "outputs": [],
   "source": [
    "def basecount(seq, useall=False, calfreqs_pc=False): \n",
    "    \"\"\"Count the frequencies of each bases in sequence including every letter\"\"\"\n",
    "    \n",
    "    length = len(seq)\n",
    "    \n",
    "    if calfreqs_pc: \n",
    "        freq_pc = {}\n",
    "    else: \n",
    "        base_counts = {} \n",
    "    \n",
    "    if useall: \n",
    "        seqset = set(seq) \n",
    "    else: \n",
    "        seqset = (\"A\", \"T\", \"C\", \"G\") \n",
    "        \n",
    "    \n",
    "    for letter in seqset: \n",
    "        num = seq.count(letter)\n",
    "        if calfreqs_pc:\n",
    "            pc = num / length\n",
    "            freq_pc[letter] = pc\n",
    "        else: \n",
    "            base_counts[letter] = num \n",
    "    \n",
    "    \n",
    "    if calfreqs_pc: \n",
    "        return freq_pc\n",
    "    else: \n",
    "        return base_counts"
   ]
  },
  {
   "cell_type": "code",
   "execution_count": 4,
   "metadata": {},
   "outputs": [
    {
     "data": {
      "text/plain": [
       "{'A': 12, 'T': 4, 'C': 5, 'G': 12}"
      ]
     },
     "execution_count": 4,
     "metadata": {},
     "output_type": "execute_result"
    }
   ],
   "source": [
    "basecount(seq1)"
   ]
  },
  {
   "cell_type": "code",
   "execution_count": 5,
   "metadata": {},
   "outputs": [
    {
     "data": {
      "text/plain": [
       "{'A': 0.36363636363636365,\n",
       " 'T': 0.12121212121212122,\n",
       " 'C': 0.15151515151515152,\n",
       " 'G': 0.36363636363636365}"
      ]
     },
     "execution_count": 5,
     "metadata": {},
     "output_type": "execute_result"
    }
   ],
   "source": [
    "seq_info = basecount(seq1, calfreqs_pc=True)\n",
    "seq_info"
   ]
  },
  {
   "cell_type": "code",
   "execution_count": 6,
   "metadata": {},
   "outputs": [
    {
     "data": {
      "image/png": "[encoded data removed]",
      "text/plain": [
       "<Figure size 720x432 with 1 Axes>"
      ]
     },
     "metadata": {
      "filenames": {
       "image/png": "/home/jubayer/Sites/ds-books/PY4B/book/_build/jupyter_execute/notebooks/LIVE! Coding_21_0.png"
      },
      "needs_background": "light"
     },
     "output_type": "display_data"
    }
   ],
   "source": [
    "import matplotlib.pyplot as plt \n",
    "plt.figure(figsize=(10,6))\n",
    "plt.title(\"Nucleotide Frequencies of DNA Sequence\", fontsize=14)\n",
    "plt.xlabel(\"Bases\", fontsize=14)\n",
    "plt.ylabel(\"Relative Frequency\", fontsize=14)\n",
    "plt.tight_layout()\n",
    "plt.bar(seq_info.keys(), seq_info.values())\n",
    "# plt.savefig(\"frequency.pdf\")\n",
    "plt.show() "
   ]
  },
  {
   "cell_type": "code",
   "execution_count": 7,
   "metadata": {},
   "outputs": [
    {
     "data": {
      "text/plain": [
       "'ATNGACCAGATATTGNGAGAGCCGGGTAGGACN'"
      ]
     },
     "execution_count": 7,
     "metadata": {},
     "output_type": "execute_result"
    }
   ],
   "source": [
    "seq2"
   ]
  },
  {
   "cell_type": "code",
   "execution_count": 8,
   "metadata": {},
   "outputs": [],
   "source": [
    "seq2 = basecount(seq2, useall=True)"
   ]
  },
  {
   "cell_type": "code",
   "execution_count": 49,
   "metadata": {},
   "outputs": [
    {
     "data": {
      "text/plain": [
       "{'G': 11, 'N': 3, 'A': 9, 'C': 5, 'T': 5}"
      ]
     },
     "execution_count": 49,
     "metadata": {},
     "output_type": "execute_result"
    }
   ],
   "source": [
    "seq2"
   ]
  },
  {
   "cell_type": "code",
   "execution_count": 9,
   "metadata": {},
   "outputs": [
    {
     "data": {
      "image/png": "[encoded data removed]",
      "text/plain": [
       "<Figure size 720x432 with 1 Axes>"
      ]
     },
     "metadata": {
      "filenames": {
       "image/png": "/home/jubayer/Sites/ds-books/PY4B/book/_build/jupyter_execute/notebooks/LIVE! Coding_25_0.png"
      },
      "needs_background": "light"
     },
     "output_type": "display_data"
    }
   ],
   "source": [
    "import matplotlib.pyplot as plt \n",
    "plt.figure(figsize=(10,6))\n",
    "plt.title(\"Nucleotide Frequencies of DNA Sequence\", fontsize=14)\n",
    "plt.xlabel(\"Bases\", fontsize=14)\n",
    "plt.ylabel(\"Relative Frequency\", fontsize=14)\n",
    "plt.tight_layout()\n",
    "plt.bar(seq2.keys(), seq2.values())\n",
    "# plt.savefig(\"frequency.pdf\")\n",
    "plt.show() "
   ]
  },
  {
   "cell_type": "code",
   "execution_count": 4,
   "metadata": {},
   "outputs": [],
   "source": [
    "seq1 = basecount(seq1)\n",
    "seq2 = basecount(seq2)"
   ]
  },
  {
   "cell_type": "code",
   "execution_count": 11,
   "metadata": {},
   "outputs": [
    {
     "data": {
      "image/png": "[encoded data removed]",
      "text/plain": [
       "<Figure size 720x432 with 2 Axes>"
      ]
     },
     "metadata": {
      "filenames": {
       "image/png": "/home/jubayer/Sites/ds-books/PY4B/book/_build/jupyter_execute/notebooks/LIVE! Coding_27_0.png"
      },
      "needs_background": "light"
     },
     "output_type": "display_data"
    }
   ],
   "source": [
    "import matplotlib.pyplot as plt \n",
    "plt.figure(figsize=(10,6))\n",
    "\n",
    "\n",
    "plt.subplot(211) # row = 2 , column = 1,  figure = 1 \n",
    "plt.bar(seq1.keys(), seq1.values())\n",
    "plt.xlabel(\"Bases\", fontsize=14)\n",
    "plt.ylabel(\"Frequency\", fontsize=14)\n",
    "\n",
    "\n",
    "plt.subplot(212) # row = 2,  column = 1, figure = 2 \n",
    "plt.bar(seq2.keys(), seq2.values())\n",
    "plt.xlabel(\"Bases\", fontsize=14)\n",
    "plt.ylabel(\"Frequency\", fontsize=14)\n",
    "plt.tight_layout()\n",
    "plt.savefig(\"multi_plot.pdf\")\n",
    "plt.show() "
   ]
  }
 ],
 "metadata": {
  "kernelspec": {
   "display_name": "Python 3",
   "language": "python",
   "name": "python3"
  },
  "language_info": {
   "codemirror_mode": {
    "name": "ipython",
    "version": 3
   },
   "file_extension": ".py",
   "mimetype": "text/x-python",
   "name": "python",
   "nbconvert_exporter": "python",
   "pygments_lexer": "ipython3",
   "version": "3.7.4"
  },
  "latex_envs": {
   "LaTeX_envs_menu_present": true,
   "autoclose": false,
   "autocomplete": true,
   "bibliofile": "biblio.bib",
   "cite_by": "apalike",
   "current_citInitial": 1,
   "eqLabelWithNumbers": true,
   "eqNumInitial": 1,
   "hotkeys": {
    "equation": "Ctrl-E",
    "itemize": "Ctrl-I"
   },
   "labels_anchors": false,
   "latex_user_defs": false,
   "report_style_numbering": false,
   "user_envs_cfg": false
  },
  "toc": {
   "base_numbering": 1,
   "nav_menu": {},
   "number_sections": true,
   "sideBar": true,
   "skip_h1_title": false,
   "title_cell": "Table of Contents",
   "title_sidebar": "Contents",
   "toc_cell": false,
   "toc_position": {},
   "toc_section_display": true,
   "toc_window_display": false
  }
 },
 "nbformat": 4,
 "nbformat_minor": 4
}