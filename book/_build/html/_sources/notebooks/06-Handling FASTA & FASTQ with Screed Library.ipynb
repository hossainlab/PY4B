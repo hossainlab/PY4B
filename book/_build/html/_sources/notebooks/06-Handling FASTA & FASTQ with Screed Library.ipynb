{
 "cells": [
  {
   "cell_type": "markdown",
   "metadata": {},
   "source": [
    "# Handling `FASTA` & `FASTQ` with Screed Library"
   ]
  },
  {
   "cell_type": "code",
   "execution_count": 4,
   "metadata": {},
   "outputs": [],
   "source": [
    "import screed\n",
    "with screed.open(\"../data/Haemophilus_influenzae.fasta\") as seqfile: \n",
    "    for read in seqfile:\n",
    "        seq = read.sequence    \n",
    "        name = read.name "
   ]
  },
  {
   "cell_type": "code",
   "execution_count": 5,
   "metadata": {},
   "outputs": [
    {
     "name": "stdout",
     "output_type": "stream",
     "text": [
      "CP005967.1 Haemophilus influenzae KR494, complete genome\n"
     ]
    }
   ],
   "source": [
    "print(name)"
   ]
  },
  {
   "cell_type": "code",
   "execution_count": 7,
   "metadata": {},
   "outputs": [
    {
     "data": {
      "text/plain": [
       "'AACCGAAATTACAGTGCATGGACGCACAAAATCTGATGGTTATCGTGCTGATAGAATTAATTGGAAAAAAATTGGTAAAGTCCGAGAGCGTTTATCCATTCCTGTTATTGCTAACGGAGAAATTTGGCATTGGCAAGATGGTCAAGATTGCTTATCTCAAACAGGTTGTCAGGATTTAATGGTGGGACGAGGTGCATTGAATATTCCGAACTTAAGCCATGTTCTGAAATCAAATGCAGAAAAAATGCCTTGGAATGAGATTCAAAAAATCTTGCAAAAATATGCGAATGTTGAAAATGAATATGGCAGCGGTTTTTACCATGTGGCACGAATTAAACAATGGTTACGTTATTTGAATAAGGAATATGATGAGGCGAACCAAGAGTTTGATAAGATTAAGACTTGCCAAACTGCTGAAGATTTGAAATTACGGTTAAATGATAAATAAAAAACCTGCTAATCAGCAGGTTTTCTTTTTCTAAATTATTTAAAAATTCACC'"
      ]
     },
     "execution_count": 7,
     "metadata": {},
     "output_type": "execute_result"
    }
   ],
   "source": [
    "seq[:500]"
   ]
  },
  {
   "cell_type": "code",
   "execution_count": 8,
   "metadata": {},
   "outputs": [
    {
     "data": {
      "text/plain": [
       "1856176"
      ]
     },
     "execution_count": 8,
     "metadata": {},
     "output_type": "execute_result"
    }
   ],
   "source": [
    "len(seq)"
   ]
  },
  {
   "cell_type": "markdown",
   "metadata": {},
   "source": [
    "## Template for Handling FASTA and FASTQ with Screed "
   ]
  },
  {
   "cell_type": "code",
   "execution_count": 17,
   "metadata": {},
   "outputs": [],
   "source": [
    "import screed # A Python library for reading FASTA and FASQ file format.\n",
    "def readFastaFile(inputfile):\n",
    "    \"\"\"\n",
    "    Reads and returns file as FASTA format with special characters removed.\n",
    "    \"\"\"\n",
    "    with screed.open(inputfile) as seqfile:\n",
    "        for read in seqfile:\n",
    "            seq = read.sequence\n",
    "    return seq"
   ]
  },
  {
   "cell_type": "code",
   "execution_count": 18,
   "metadata": {},
   "outputs": [],
   "source": [
    "# read data \n",
    "seqs = readFastaFile(\"../data/Haemophilus_influenzae.fasta\")"
   ]
  },
  {
   "cell_type": "code",
   "execution_count": 19,
   "metadata": {},
   "outputs": [
    {
     "data": {
      "text/plain": [
       "'AACCGAAATTACAGTGCATGGACGCACAAAATCTGATGGTTATCGTGCTGATAGAATTAATTGGAAAAAAATTGGTAAAGTCCGAGAGCGTTTATCCATTCCTGTTATTGCTAACGGAGAAATTTGGCATTGGCAAGATGGTCAAGATTGCTTATCTCAAACAGGTTGTCAGGATTTAATGGTGGGACGAGGTGCATTGA'"
      ]
     },
     "execution_count": 19,
     "metadata": {},
     "output_type": "execute_result"
    }
   ],
   "source": [
    "seqs[:200]"
   ]
  },
  {
   "cell_type": "code",
   "execution_count": 20,
   "metadata": {},
   "outputs": [],
   "source": [
    "import screed # A Python library for reading FASTA and FASQ file format.\n",
    "def readFastqFile(inputfile):\n",
    "    \"\"\"\n",
    "    Reads and returns file as FASTA format with special characters removed.\n",
    "    \"\"\"\n",
    "    with screed.open(inputfile) as seqfile:\n",
    "        for read in seqfile:\n",
    "            seq = read.sequence\n",
    "    return seq"
   ]
  },
  {
   "cell_type": "code",
   "execution_count": 26,
   "metadata": {},
   "outputs": [],
   "source": [
    "seqs = readFastqFile(\"../data/SRR835775_1.first1000.fastq\")"
   ]
  },
  {
   "cell_type": "code",
   "execution_count": 27,
   "metadata": {},
   "outputs": [
    {
     "data": {
      "text/plain": [
       "'GTTGGCTGCCCCTGCAGGTCCCTGTCACCTCTCACATGTCCCTGCCTAATCTTGCAGGTCCCAGAGAACTACTTCTATGTGCCAGACCTGGGCCAGGTGC'"
      ]
     },
     "execution_count": 27,
     "metadata": {},
     "output_type": "execute_result"
    }
   ],
   "source": [
    "seqs "
   ]
  }
 ],
 "metadata": {
  "kernelspec": {
   "display_name": "Python 3",
   "language": "python",
   "name": "python3"
  },
  "language_info": {
   "codemirror_mode": {
    "name": "ipython",
    "version": 3
   },
   "file_extension": ".py",
   "mimetype": "text/x-python",
   "name": "python",
   "nbconvert_exporter": "python",
   "pygments_lexer": "ipython3",
   "version": "3.7.4"
  },
  "latex_envs": {
   "LaTeX_envs_menu_present": true,
   "autoclose": false,
   "autocomplete": true,
   "bibliofile": "biblio.bib",
   "cite_by": "apalike",
   "current_citInitial": 1,
   "eqLabelWithNumbers": true,
   "eqNumInitial": 1,
   "hotkeys": {
    "equation": "Ctrl-E",
    "itemize": "Ctrl-I"
   },
   "labels_anchors": false,
   "latex_user_defs": false,
   "report_style_numbering": false,
   "user_envs_cfg": false
  },
  "toc": {
   "base_numbering": 1,
   "nav_menu": {},
   "number_sections": true,
   "sideBar": true,
   "skip_h1_title": false,
   "title_cell": "Table of Contents",
   "title_sidebar": "Contents",
   "toc_cell": false,
   "toc_position": {},
   "toc_section_display": true,
   "toc_window_display": false
  }
 },
 "nbformat": 4,
 "nbformat_minor": 2
}
